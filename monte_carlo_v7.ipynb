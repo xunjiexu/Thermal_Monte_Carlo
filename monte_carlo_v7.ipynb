{
 "cells": [
  {
   "cell_type": "markdown",
   "metadata": {},
   "source": [
    "# v7"
   ]
  },
  {
   "cell_type": "code",
   "execution_count": 1,
   "metadata": {},
   "outputs": [],
   "source": [
    "import numpy as np\n",
    "\n",
    "PI=Pi=np.pi\n",
    "Abs=np.abs\n",
    "Log=np.log\n",
    "Sqrt=np.sqrt\n",
    "Exp=np.exp\n",
    "Cos=np.cos\n",
    "def SqrtClip(x):\n",
    "    return np.sqrt(np.clip(x,0,None))\n",
    "    "
   ]
  },
  {
   "cell_type": "code",
   "execution_count": 2,
   "metadata": {},
   "outputs": [
    {
     "data": {
      "text/plain": [
       "array([ 0.        ,  2.07364414,  0.        ,  3.16227766])"
      ]
     },
     "execution_count": 2,
     "metadata": {},
     "output_type": "execute_result"
    }
   ],
   "source": [
    "np.clip([-2.0,4.3,-3.2,10],0,None)\n",
    "\n",
    "SqrtClip([-2.0,4.3,-3.2,10])"
   ]
  },
  {
   "cell_type": "markdown",
   "metadata": {
    "heading_collapsed": true
   },
   "source": [
    "## I3"
   ]
  },
  {
   "cell_type": "code",
   "execution_count": 3,
   "metadata": {
    "hidden": true
   },
   "outputs": [],
   "source": [
    "\n",
    "    \n",
    "class I3():\n",
    "    ''' This module numerically integrates F according to Eq.(xxx) using the Monte-Carlo method. \n",
    "        phase space: 1->2 \n",
    "        To use it, you need to set n, F, m123, Tqx, and invoke the generate() function to \n",
    "        generate n samples, then run the go() function to obtain the final result\n",
    "    '''\n",
    "    def __init__(self):\n",
    "        self.Tqx=10.0\n",
    "        self.n=1000\n",
    "        self.variables=[\n",
    "                (\"xq\",0,1),\n",
    "                (\"cq\",-1,1),(\"c2bar\",-1,1),\n",
    "                (\"phiq\",0,2*Pi),(\"phi2bar\",0,2*Pi)]\n",
    "        self.var_rand={}\n",
    "        self.V=1.0\n",
    "        self.F=None\n",
    "        self.m123=(0,0,0)\n",
    "        self.Theta=None\n",
    "        self.f_result=None\n",
    "    def generate(self):\n",
    "        V=1.0\n",
    "        for entry in self.variables:\n",
    "            self.var_rand[entry[0]]=np.random.uniform(entry[1],entry[2],self.n)\n",
    "            V=V*(entry[2]-entry[1])\n",
    "        self.V=V\n",
    "        \n",
    "   \n",
    "    def go(self):\n",
    "        m1,m2,m3=self.m123\n",
    "        F=self.F\n",
    "        Tqx=self.Tqx\n",
    "        \n",
    "#         global Theta,s,E,q,Q2,q2,qc,qc2,En,En2 # debug\n",
    "\n",
    "        xq=self.var_rand[\"xq\"]\n",
    "        c2=self.var_rand[\"c2bar\"]\n",
    "        q=-Tqx*Log(xq)\n",
    "\n",
    "        Eq=Sqrt(m1**2 + q**2)\n",
    "\n",
    "        EE=Eq**2\n",
    "        qq=q**2 # I could use q2, but since there are p2,p3,E2....this would be confusing       \n",
    "        QQ=EE - qq        # QQ is defined as q.q=Eq^2-q^2,\n",
    "        qc=q*c2 #q*cos(theta_2_bar)   \n",
    "        qcqc=qc**2      \n",
    "        \n",
    "        Delta=m2**4 + (m3**2-QQ)**2-2*m2**2*(m3**2 + QQ + 2*(qq - qcqc))\n",
    "        Theta=np.heaviside(QQ,(m2+m3)**2) * np.heaviside(Delta,0)\n",
    "        \n",
    "        \n",
    "\n",
    "         \n",
    "        #compute E2,p2,E3,p3\n",
    "\n",
    "        \n",
    "        p2=((m2**2 - m3**2 + QQ)*qc + Eq*SqrtClip(Delta))/(2.*(EE - qcqc))\n",
    "        p2p2=p2**2\n",
    "        E2=Sqrt(m2**2 + p2p2)\n",
    "        E3=Eq-E2\n",
    "        p3=SqrtClip(E3**2-m3**2)\n",
    "        \n",
    "        \n",
    "        dotq2=Eq*E2-qc*p2\n",
    "        dot12=dotq2\n",
    "        \n",
    "        \n",
    "        dpdx=(Tqx)/(xq)\n",
    "        E1=Eq\n",
    "        F_val=F(E1,E2,dot12)\n",
    "        #note that p1**2 has been -> q**2 \n",
    "        f_result= qq/((2*Pi)**3*2.*E1)*\\\n",
    "                  p2p2/((2*Pi)**3*2.*E2)*\\\n",
    "                  (2*Pi)/(2.*E3)*F_val*dpdx/Abs(p2/E2 + (p2 - qc)/E3)  *Theta\n",
    "        \n",
    "        self.f_result=f_result\n",
    "        self.Theta=Theta\n",
    "\n",
    "        \n",
    "        f_mean=np.mean(f_result)\n",
    "        return f_mean*self.V\n",
    "\n",
    "    "
   ]
  },
  {
   "cell_type": "code",
   "execution_count": 31,
   "metadata": {
    "hidden": true
   },
   "outputs": [],
   "source": [
    "        \n",
    "#         nonzero_indices=np.nonzero(Theta)\n",
    "#         f_result_physical=np.take(f_result,nonzero_indices) #select only physical samples"
   ]
  },
  {
   "cell_type": "markdown",
   "metadata": {
    "hidden": true
   },
   "source": [
    "### test some samples"
   ]
  },
  {
   "cell_type": "code",
   "execution_count": 32,
   "metadata": {
    "hidden": true
   },
   "outputs": [
    {
     "name": "stdout",
     "output_type": "stream",
     "text": [
      "35.35977077484131\n",
      "[0.00081956861491810755, 0.00081972969567508606, 0.00082026143498897873, 0.0008190327321802829, 0.00081635702516868656, 0.00081742316081080354, 0.00081858219631326457, 0.0008175918803631139, 0.00081946796330825895, 0.00081845222766891823]\n",
      "Bessel result (MB, m2=m3=0): 0.000818805432621\n"
     ]
    }
   ],
   "source": [
    "from time import time\n",
    "start_time=time()\n",
    "\n",
    "m1,m2,m3=1.,0,0\n",
    "T1=1.0\n",
    "\n",
    "def F_MB(E1,E2,dot12):\n",
    "    return E2*Exp(-E1/T1)\n",
    "\n",
    "np.random.seed(1)\n",
    "\n",
    "result=[]\n",
    "for i in range(10):\n",
    "    iii=I3()\n",
    "    iii.Tqx=4*T1\n",
    "    iii.m123=(m1,m2,m3)\n",
    "    iii.n=10000000\n",
    "    iii.F=F_MB\n",
    "    iii.generate()\n",
    "    result.append(iii.go())\n",
    "#     print (\"MB result=\",result[i])\n",
    "\n",
    "print ((time()-start_time))\n",
    "print (result)\n",
    "\n",
    "from scipy.special import kv as besselK\n",
    "print (\"Bessel result (MB, m2=m3=0):\", m1**2 * T1 * besselK(2,m1/T1)/(64*PI**3) )"
   ]
  },
  {
   "cell_type": "code",
   "execution_count": 55,
   "metadata": {
    "hidden": true
   },
   "outputs": [
    {
     "data": {
      "text/plain": [
       "array([ 8.196,  8.197,  8.203,  8.19 ,  8.164,  8.174,  8.186,  8.176,\n",
       "        8.195,  8.185])"
      ]
     },
     "execution_count": 55,
     "metadata": {},
     "output_type": "execute_result"
    }
   ],
   "source": [
    "np.round(np.array(result)*1e4,3)"
   ]
  },
  {
   "cell_type": "code",
   "execution_count": 4,
   "metadata": {
    "hidden": true
   },
   "outputs": [
    {
     "name": "stdout",
     "output_type": "stream",
     "text": [
      "MB result= 0.000799615624639\n",
      "result= 0.000849099251229\n",
      "Bessel result (MB, m2=m3=0): 0.000818805432621\n"
     ]
    }
   ],
   "source": [
    "# m1,m2,m3=1.,0,0\n",
    "m1,m2,m3=1.,0.1,0.1\n",
    "T1=1.0\n",
    "\n",
    "def F_MB(E1,E2,dot12):\n",
    "    return E2*Exp(-E1/T1)\n",
    "\n",
    "def F(E1,E2,dot12):\n",
    "    E3=E1+E2\n",
    "    fnuL=1.0/(Exp(E3/T1)+1)\n",
    "    fh=1.0/(Exp(E1/T1)-1)\n",
    "    fnuR=0\n",
    "    return E2*fh*(1-fnuL)*(1-fnuR)\n",
    "\n",
    "iii=I3()\n",
    "iii.Tqx=4*T1\n",
    "iii.m123=(m1,m2,m3)\n",
    "iii.n=1000000\n",
    "iii.F=F_MB\n",
    "iii.generate()\n",
    "print (\"MB result=\", iii.go())\n",
    "\n",
    "iii.F=F\n",
    "iii.generate()\n",
    "print (\"result=\", iii.go())\n",
    "\n",
    "\n",
    "from scipy.special import kv as besselK\n",
    "print (\"Bessel result (MB, m2=m3=0):\", m1**2 * T1 * besselK(2,m1/T1)/(64*PI**3) )"
   ]
  },
  {
   "cell_type": "markdown",
   "metadata": {
    "heading_collapsed": true
   },
   "source": [
    "## compute $C_{\\nu_R}/|{\\cal M}|^2$ of decay processes: cases (I-1), (I-2), (II-1),(III-1)"
   ]
  },
  {
   "cell_type": "code",
   "execution_count": 5,
   "metadata": {
    "hidden": true
   },
   "outputs": [],
   "source": [
    "def F_I_1(E1,E2,dot12):\n",
    "    # B >>>> nuR+F\n",
    "    global T1\n",
    "    f1=1.0/(Exp(E1/T1)-1) #BE statistics\n",
    "    f2=0 #nuR\n",
    "    E3=E1-E2\n",
    "    f3=1.0/(Exp(E3/T1)+1) #FD statistics\n",
    "    return E2*f1*(1-f2)*(1-f3) #BE, FD, FD statistics\n",
    "\n",
    "def F_I_2(E1,E2,dot12):    \n",
    "    # F >>>> nuR+B\n",
    "    global T1\n",
    "    f1=1.0/(Exp(E1/T1)+1) #FD statistics\n",
    "    f2=0 #nuR\n",
    "    E3=E1-E2\n",
    "    f3=1.0/(Exp(E3/T1)-1) #BE statistics\n",
    "    return E2*f1*(1-f2)*(1+f3) #FD, FD, BE statistics\n",
    "\n",
    "def F_II_1(E1,E2,dot12):\n",
    "    # B >>>> nuR+F\n",
    "    global T1\n",
    "    f1=1.0/(Exp(E1/T1)-1) #BE statistics\n",
    "    f2=0 #nuR\n",
    "    f3=0 #F not in thermal equilibrium\n",
    "    return E2*f1*(1-f2)*(1-f3) #BE, FD, FD statistics\n",
    "\n",
    "def F_III_1(E1,E2,dot12):\n",
    "    # F >>>> nuR+B\n",
    "    global T1\n",
    "    f1=1.0/(Exp(E1/T1)+1) #FD statistics\n",
    "    f2=0 #nuR\n",
    "    f3=0 #B not in thermal equilibrium\n",
    "    return E2*f1*(1-f2)*(1+f3) #FD, FD, BE statistics"
   ]
  },
  {
   "cell_type": "code",
   "execution_count": 6,
   "metadata": {
    "hidden": true
   },
   "outputs": [],
   "source": [
    "MeV=1.0;\n",
    "GeV=1e3*MeV;\n",
    "TeV=1e3*GeV"
   ]
  },
  {
   "cell_type": "code",
   "execution_count": 7,
   "metadata": {
    "hidden": true,
    "scrolled": false
   },
   "outputs": [
    {
     "name": "stdout",
     "output_type": "stream",
     "text": [
      " m1= 100.0 F= 3 i= 39 / 40,,40,time used= 164.78315234184265\n"
     ]
    }
   ],
   "source": [
    "from time import time\n",
    "start_time=time()\n",
    "\n",
    "m1list=np.array([1*TeV,1*GeV,100*MeV])\n",
    "m2list=0*m1list\n",
    "m3list=m1list/2\n",
    "resultsss=[]\n",
    "for im1,m1 in enumerate(m1list):\n",
    "    resultss=[]\n",
    "    for iF,F in enumerate([F_I_1,F_I_2,F_II_1,F_III_1]):\n",
    "        m2=m2list[im1]\n",
    "        m3=m3list[im1]\n",
    "\n",
    "        iii=I3()\n",
    "        # iii.Tqx=4*T1\n",
    "        iii.m123=(m1,m2,m3)\n",
    "        iii.n=1000000\n",
    "        iii.F=F\n",
    "        # iii.generate()\n",
    "\n",
    "        T1list=m1 * np.logspace(-2,1,40)\n",
    "        results=[]\n",
    "\n",
    "        for i,T1 in enumerate(T1list):\n",
    "            print (\"\\r m1=\",m1,\"F=\",iF,\"i=\",i,\"/\",len(T1list),end=\",\")    \n",
    "            iii.Tqx=4*T1\n",
    "            iii.generate()\n",
    "            results.append(iii.go())\n",
    "\n",
    "        resultss.append(np.array([T1list,results]))\n",
    "    resultsss.append(resultss)\n",
    "    \n",
    "print (\"time used=\",time()-start_time)\n",
    "    "
   ]
  },
  {
   "cell_type": "code",
   "execution_count": 11,
   "metadata": {
    "hidden": true
   },
   "outputs": [],
   "source": [
    "np.save(\"data/C_decay.npy\",[resultsss,m1list,m2list,m3list])"
   ]
  },
  {
   "cell_type": "code",
   "execution_count": 8,
   "metadata": {
    "hidden": true,
    "scrolled": false
   },
   "outputs": [
    {
     "name": "stdout",
     "output_type": "stream",
     "text": [
      " m1= 100.0 F= 3 i= 39 / 40,,40,time used= 163.57228755950928\n"
     ]
    }
   ],
   "source": [
    "from time import time\n",
    "start_time=time()\n",
    "\n",
    "m1list=np.array([1*TeV,1*GeV,100*MeV])\n",
    "m2list=0*m1list\n",
    "m3list=0*m1list\n",
    "resultsss=[]\n",
    "for im1,m1 in enumerate(m1list):\n",
    "    resultss=[]\n",
    "    for iF,F in enumerate([F_I_1,F_I_2,F_II_1,F_III_1]):\n",
    "        m2=m2list[im1]\n",
    "        m3=m3list[im1]\n",
    "\n",
    "        iii=I3()\n",
    "        # iii.Tqx=4*T1\n",
    "        iii.m123=(m1,m2,m3)\n",
    "        iii.n=1000000\n",
    "        iii.F=F\n",
    "        # iii.generate()\n",
    "\n",
    "        T1list=m1 * np.logspace(-2,1,40)\n",
    "        results=[]\n",
    "\n",
    "        for i,T1 in enumerate(T1list):\n",
    "            print (\"\\r m1=\",m1,\"F=\",iF,\"i=\",i,\"/\",len(T1list),end=\",\")    \n",
    "            iii.Tqx=4*T1\n",
    "            iii.generate()\n",
    "            results.append(iii.go())\n",
    "\n",
    "        resultss.append(np.array([T1list,results]))\n",
    "    resultsss.append(resultss)\n",
    "    \n",
    "print (\"time used=\",time()-start_time)\n",
    "\n",
    "np.save(\"data/C_decay_0mfinal.npy\",[resultsss,m1list,m2list,m3list])\n",
    "    "
   ]
  },
  {
   "cell_type": "markdown",
   "metadata": {},
   "source": [
    "## I4"
   ]
  },
  {
   "cell_type": "code",
   "execution_count": 3,
   "metadata": {},
   "outputs": [],
   "source": [
    "class I4():\n",
    "    ''' This module numerically integrates F according to Eq.(xxx) using the Monte-Carlo method. \n",
    "        phase space: 2->2 \n",
    "        To use it, you need to set n, F, m1234, Tqx, T2x, and invoke the generate() function to \n",
    "        generate n samples, then run the go() function to obtain the final result\n",
    "    '''\n",
    "    def __init__(self):\n",
    "        self.Tqx=10.0\n",
    "        self.T2x=10.0\n",
    "        self.n=1000\n",
    "        self.variables=[(\"xq\",0,1),(\"x2\",0,1),\n",
    "                (\"cq\",-1,1),(\"c2\",-1,1),(\"c3\",-1,1),\n",
    "                (\"phi1\",0,2*Pi),(\"phi2\",0,2*Pi),(\"phi3\",0,2*Pi)]\n",
    "        self.var_rand={}\n",
    "        self.V=1.0\n",
    "        self.F=None\n",
    "        self.m1234=(0,0,0,0)\n",
    "    def generate(self):\n",
    "        V=1.0\n",
    "        for entry in self.variables:\n",
    "            self.var_rand[entry[0]]=np.random.uniform(entry[1],entry[2],self.n)\n",
    "            V=V*(entry[2]-entry[1])\n",
    "        self.V=V\n",
    "        \n",
    "   \n",
    "    def go(self):\n",
    "        m1,m2,m3,m4=self.m1234\n",
    "        F=self.F\n",
    "        Tqx=self.Tqx\n",
    "        T2x=self.T2x\n",
    "\n",
    "        xq=self.var_rand[\"xq\"]\n",
    "        x2=self.var_rand[\"x2\"]\n",
    "        c2=self.var_rand[\"c2\"] #now c2 is defined as the angle btw. q and p2\n",
    "        c3=self.var_rand[\"c3\"]\n",
    "        q=-Tqx*Log(xq)        \n",
    "        p2=-T2x*Log(x2)\n",
    "        p1=Sqrt(q**2 - 2*c2*q*p2 + p2**2) # derived from p1_vec=q_vec-p2_vec\n",
    "        E1=Sqrt(m1**2 + p1**2)\n",
    "        E2=Sqrt(m2**2 + p2**2)\n",
    "        Eq=E1+E2\n",
    "        EE=Eq**2\n",
    "        qq=q**2 # I could use q2, but since there are p2,p3,E2....this would be confusing \n",
    "        QQ=EE - qq        # QQ is defined as q.q=Eq^2-q^2,\n",
    "        Theta=np.heaviside(QQ,(m3+m4)**2)   \n",
    "     \n",
    "        \n",
    "        qc=q*c3 #q*cos(theta_2_bar)   \n",
    "        qcqc=qc**2      \n",
    "        \n",
    "        Delta=m3**4 + (m4**2-QQ)**2-2*m3**2*(m4**2 + QQ + 2*(qq - qcqc))\n",
    "        Theta=np.heaviside(QQ,(m3+m4)**2) * np.heaviside(Delta,0)\n",
    "         \n",
    "\n",
    "            \n",
    "            \n",
    "        #from q, compute E3,p3,E4,p4\n",
    "        p3= ((m3**2 - m4**2 + QQ)*qc + Eq*SqrtClip(Delta))/(2.*(EE - qcqc))\n",
    "        E3=Sqrt(m3**2 + p3**2)\n",
    "        E4=Eq-E3\n",
    "        p4=SqrtClip(E4**2 -m4**4)\n",
    "\n",
    "        \n",
    "        \n",
    "        \n",
    "        dotq2=Eq*E2-q*p2*c2\n",
    "        dotq3=Eq*E3-q*p3*c3\n",
    "\n",
    "        s2=Sqrt(1-c2**2)\n",
    "        s3=Sqrt(1-c3**2)\n",
    "        phi2=self.var_rand[\"phi2\"]\n",
    "        phi3=self.var_rand[\"phi3\"]\n",
    "        dot23=E2*E3-p2*p3*(s2*s3*Cos(phi2-phi3)+c2*c3)\n",
    "\n",
    "        dot13=dotq3-dot23 #p1.p3=(q-p2).p3\n",
    "        dot12=dotq2-m2**2 #p1.p2=(q-p2).p2\n",
    "        \n",
    "        \n",
    "        dpdx=(Tqx*T2x)/(xq*x2)\n",
    "        F_val=F(E1,E2,E3,dot12,dot13,dot23)\n",
    "        #note that p1**2 has been -> q**2 according to 2020.08.15.2\n",
    "        f_result= q**2/((2*Pi)**3*2.*E1)*\\\n",
    "                  p2**2/((2*Pi)**3*2.*E2)*\\\n",
    "                  p3**2/((2*Pi)**3*2.*E3)*\\\n",
    "                  (2*Pi)/(2.*E4)*F_val*Theta*dpdx/Abs(p3/E3 + (p3 - q*c3)/E4)\n",
    "        f_mean=np.mean(f_result)\n",
    "        return f_mean*self.V\n",
    "    \n"
   ]
  },
  {
   "cell_type": "markdown",
   "metadata": {},
   "source": [
    "### test some samples"
   ]
  },
  {
   "cell_type": "code",
   "execution_count": 4,
   "metadata": {},
   "outputs": [
    {
     "data": {
      "text/plain": [
       "0.00028358980383923481"
      ]
     },
     "execution_count": 4,
     "metadata": {},
     "output_type": "execute_result"
    }
   ],
   "source": [
    "mX=10\n",
    "m1,m2,m3,m4=0.1,0.1,0.0,0.0\n",
    "T1=3.0\n",
    "\n",
    "\n",
    "def F(E1,E2,E3,dot12,dot13,dot23):\n",
    "    dot24=dot12+m2**2-dot23\n",
    "    f1f2=(Exp(E1/T1)+1)**-1 * (Exp(E2/T1)+1)**-1 #Fermi-Dirac distribution\n",
    "    t=m3**2+m1**2-2*dot13\n",
    "    return E3*f1f2*(dot13)*(dot24)/(t-mX**2)**2\n",
    "\n",
    "iii=I4()\n",
    "iii.Tqx=4*T1\n",
    "iii.T2x=4*T1\n",
    "iii.n=1000000\n",
    "\n",
    "iii.m1234=(m1,m2,m3,m4)\n",
    "iii.F=F\n",
    "\n",
    "\n",
    "iii.generate()\n",
    "iii.go()"
   ]
  },
  {
   "cell_type": "markdown",
   "metadata": {},
   "source": [
    "##  MC of t-chanel $F+F\\rightarrow \\nu_R+\\nu_R$ compared with Power-law approximation"
   ]
  },
  {
   "cell_type": "code",
   "execution_count": 5,
   "metadata": {},
   "outputs": [
    {
     "name": "stdout",
     "output_type": "stream",
     "text": [
      " 19 / 20"
     ]
    }
   ],
   "source": [
    "mB=10\n",
    "mF=0.1\n",
    "m1,m2,m3,m4=mF,mF,0.0,0.0\n",
    "\n",
    "def F(E1,E2,E3,dot12,dot13,dot23):\n",
    "    f1f2=(Exp(E1/T1)+1)**-1 * (Exp(E2/T1)+1)**-1 #Fermi-Dirac distribution\n",
    "    t=m3**2+m1**2-2*dot13\n",
    "    return E3*f1f2*(t-mF**2)**2/(t-mB**2)**2\n",
    "\n",
    "\n",
    "T1list=np.logspace(-1,3,20)\n",
    "iii=I4()\n",
    "iii.n=1000000\n",
    "iii.m1234=(m1,m2,m3,m4)\n",
    "iii.F=F\n",
    "\n",
    "\n",
    "\n",
    "results=[]\n",
    "for i,T1 in enumerate(T1list):\n",
    "    print (\"\\r\",i,\"/\",len(T1list),end=\"\")    \n",
    "    iii.Tqx=4*T1\n",
    "    iii.T2x=4*T1   \n",
    "    iii.generate()\n",
    "    results.append(iii.go())\n",
    "results_t_channel=results"
   ]
  },
  {
   "cell_type": "code",
   "execution_count": 6,
   "metadata": {},
   "outputs": [],
   "source": [
    "from matplotlib import pyplot as plt\n",
    "# %matplotlib inline\n",
    "plt.rc('text', usetex=True)\n",
    "plt.rc('font', family='serif')"
   ]
  },
  {
   "cell_type": "code",
   "execution_count": 7,
   "metadata": {},
   "outputs": [],
   "source": [
    "def C_approx(T):\n",
    "    if T>mB/(2**0.5):\n",
    "        return (T)**5/(64*Pi**5)\n",
    "    elif T<mF/3:\n",
    "        return 0\n",
    "    else:\n",
    "        return T**9/(16*Pi**5 *mB**4)\n",
    "    \n",
    "def C_approx_wrong(T):\n",
    "    if T>mB/(2**0.5):\n",
    "        return T**9/(16*Pi**5 *mB**4)\n",
    "    elif T<mF/3:\n",
    "        return 0\n",
    "    else:\n",
    "        return (T)**5/(64*Pi**5)\n"
   ]
  },
  {
   "cell_type": "code",
   "execution_count": 27,
   "metadata": {
    "scrolled": true
   },
   "outputs": [
    {
     "data": {
      "image/png": "[encoded data removed]",
      "text/plain": [
       "<matplotlib.figure.Figure at 0x7f2337728550>"
      ]
     },
     "metadata": {},
     "output_type": "display_data"
    }
   ],
   "source": [
    "# fig,ax=plt.subplots()\n",
    "results=results_t_channel\n",
    "plt.loglog()\n",
    "plt.plot(T1list,results)\n",
    "\n",
    "T1_fine_list=np.logspace(-1,3,100)\n",
    "plt.plot(T1_fine_list,[C_approx(T) for T in T1_fine_list])\n",
    "# plt.plot(T1_fine_list,[C_approx_wrong(T) for T in T1_fine_list],ls=\"--\")\n",
    "# plt.plot(T1list,[C_approx_3(T) for T in T1list],ls=\"--\")\n",
    "plt.scatter(x=mB/2**0.5,y=C_approx(mB/2**0.5),color=\"C1\")\n",
    "plt.text(s=r\"$C_{\\nu_R}\\propto T^5$\",x=0.6e2,y=0.9e8,rotation=26,color=\"C1\",fontsize=13)\n",
    "plt.text(s=r\"$C_{\\nu_R}\\propto T^9$\",x=4e-1,y=1e-10,rotation=40,color=\"C1\",fontsize=13)\n",
    "# plt.text(s=r\"$T= \\frac{m_F}{\\sqrt{2}}$\",x=0.8*mB,yC_approx(mB),color=\"C1\",fontsize=13,horizontalalignment='right')\n",
    "plt.text(s=r\"$T\\sim m_B $\",x=0.8*mB,y=C_approx(mB),color=\"C1\",fontsize=13,horizontalalignment='right')\n",
    "\n",
    "\n",
    "plt.ylim(min(results),10*max(results))\n",
    "plt.xlim(min(T1list),max(T1list))\n",
    "plt.legend([r\"Numerical result\",r\"Power-law approximation\"],fontsize=13)\n",
    "plt.tick_params(which=\"both\",direction=\"in\")\n",
    "# plt.legend([r\"Numerical result\",r\"Power-law approximation\",r\"$(T^2+m^2)^{-2}$ approximation\"])\n",
    "plt.xlabel(r\"$T$ [GeV]\",fontsize=13)\n",
    "plt.ylabel(r\"$C_{\\nu_R}/|g_{\\nu}|^4$\",fontsize=13)\n",
    "# plt.savefig(r'/share_D/Dropbox/mywork/BBN_mediator/BBN_light/draft/fig/C-T.pdf',\n",
    "#            bbox_inches='tight')\n",
    "# plt.savefig(r'/home/xj/Downloads/git/5faea2dae702608b14045f9e/fig/C-T.pdf',\n",
    "#            bbox_inches='tight')\n",
    "plt.show()"
   ]
  },
  {
   "cell_type": "markdown",
   "metadata": {},
   "source": [
    "## compute $C_{\\nu_R}$ of annihilation processes: cases (II-2),(III-2)"
   ]
  },
  {
   "cell_type": "code",
   "execution_count": 10,
   "metadata": {},
   "outputs": [],
   "source": [
    "def F_II_2(E1,E2,E3,dot12,dot13,dot23):\n",
    "    global T1,m1,mX\n",
    "    mF=mX\n",
    "    mB=m1\n",
    "    f1=1/(Exp(E1/T1)-1) #BE statistics\n",
    "    f2=1/(Exp(E2/T1)-1) #BE statistics\n",
    "    f3=0 #nuR\n",
    "    f4=0 #nuR\n",
    "    s=m1**2+m2**2+2*dot12\n",
    "    u=m2**2+m3**2-2*dot23\n",
    "    t=m3**2+m1**2-2*dot13\n",
    "    MM=((mB**2-t)*(mB**2-u)-s*mB**2)/(t-mF**2)**2\n",
    "    return E3*f1*f2*(1-f3)*(1-f4)*MM\n",
    "\n",
    "def F_III_2(E1,E2,E3,dot12,dot13,dot23):\n",
    "    global T1,m1,mX\n",
    "    mB=mX\n",
    "    mF=m1\n",
    "    f1=1/(Exp(E1/T1)+1) #FD statistics\n",
    "    f2=1/(Exp(E2/T1)+1) #FD statistics\n",
    "    f3=0 #nuR\n",
    "    f4=0 #nuR\n",
    "    t=m3**2+m1**2-2*dot13\n",
    "    return E3*f1*f2*(1-f3)*(1-f4)*(t-mF**2)**2/(t-mB**2)**2"
   ]
  },
  {
   "cell_type": "code",
   "execution_count": 12,
   "metadata": {},
   "outputs": [],
   "source": [
    "MeV=1.0;\n",
    "GeV=1e3*MeV;\n",
    "TeV=1e3*GeV"
   ]
  },
  {
   "cell_type": "code",
   "execution_count": 16,
   "metadata": {
    "scrolled": false
   },
   "outputs": [
    {
     "name": "stdout",
     "output_type": "stream",
     "text": [
      " m1= 50.0 F= 1 i= 39 / 40,,40,time used= 165.72130870819092\n"
     ]
    }
   ],
   "source": [
    "from time import time\n",
    "start_time=time()\n",
    "\n",
    "mXlist=np.array([1*TeV,1*GeV,100*MeV])\n",
    "m1list=mXlist/2\n",
    "resultsss=[]\n",
    "for im1,m1 in enumerate(m1list):\n",
    "    resultss=[]\n",
    "    for iF,F in enumerate([F_II_2,F_III_2]):\n",
    "        m2=m1\n",
    "        m3=m4=0\n",
    "        mX=mXlist[im1]\n",
    "\n",
    "        iii=I4()\n",
    "        iii.m1234=(m1,m2,m3,m4)\n",
    "        iii.n=1000000\n",
    "        iii.F=F\n",
    "        #which requires global T1, m1,mX\n",
    "\n",
    "        T1list=mX * np.logspace(-2,1,40)\n",
    "        results=[]\n",
    "\n",
    "        for i,T1 in enumerate(T1list):\n",
    "            print (\"\\r m1=\",m1,\"F=\",iF,\"i=\",i,\"/\",len(T1list),end=\",\")    \n",
    "            iii.Tqx=4*T1\n",
    "            iii.T2x=4*T1 \n",
    "            iii.generate()\n",
    "            results.append(iii.go())\n",
    "\n",
    "        resultss.append(np.array([T1list,results]))\n",
    "    resultsss.append(resultss)\n",
    "    \n",
    "print (\"time used=\",time()-start_time)\n",
    "    "
   ]
  },
  {
   "cell_type": "code",
   "execution_count": 17,
   "metadata": {},
   "outputs": [],
   "source": [
    "np.save(\"data/C_annihilation.npy\",[resultsss,m1list,mXlist])"
   ]
  },
  {
   "cell_type": "code",
   "execution_count": 18,
   "metadata": {
    "scrolled": false
   },
   "outputs": [
    {
     "name": "stdout",
     "output_type": "stream",
     "text": [
      " m1= 0.0 F= 1 i= 39 / 40,time used= 157.47855353355408\n"
     ]
    }
   ],
   "source": [
    "from time import time\n",
    "start_time=time()\n",
    "\n",
    "mXlist=np.array([1*TeV,1*GeV,100*MeV])\n",
    "m1list=mXlist*0\n",
    "resultsss=[]\n",
    "for im1,m1 in enumerate(m1list):\n",
    "    resultss=[]\n",
    "    for iF,F in enumerate([F_II_2,F_III_2]):\n",
    "        m2=m1\n",
    "        m3=m4=0\n",
    "        mX=mXlist[im1]\n",
    "\n",
    "        iii=I4()\n",
    "        iii.m1234=(m1,m2,m3,m4)\n",
    "        iii.n=1000000\n",
    "        iii.F=F\n",
    "        #which requires global T1, m1,mX\n",
    "\n",
    "        T1list=mX * np.logspace(-2,1,40)\n",
    "        results=[]\n",
    "\n",
    "        for i,T1 in enumerate(T1list):\n",
    "            print (\"\\r m1=\",m1,\"F=\",iF,\"i=\",i,\"/\",len(T1list),end=\",\")    \n",
    "            iii.Tqx=4*T1\n",
    "            iii.T2x=4*T1 \n",
    "            iii.generate()\n",
    "            results.append(iii.go())\n",
    "\n",
    "        resultss.append(np.array([T1list,results]))\n",
    "    resultsss.append(resultss)\n",
    "    \n",
    "print (\"time used=\",time()-start_time)\n",
    "\n",
    "np.save(\"data/C_annihilation_0m1.npy\",[resultsss,m1list,mXlist])\n",
    "    "
   ]
  },
  {
   "cell_type": "markdown",
   "metadata": {
    "heading_collapsed": true
   },
   "source": [
    "## compute $C_{\\nu_R}$ of annihilation processes: cases (II-2),(III-2) with m1=0"
   ]
  },
  {
   "cell_type": "code",
   "execution_count": 15,
   "metadata": {
    "hidden": true,
    "scrolled": false
   },
   "outputs": [
    {
     "name": "stdout",
     "output_type": "stream",
     "text": [
      " m1= 0.0 F= 0 i= 39 / 40,time used= 27.061351776123047\n"
     ]
    }
   ],
   "source": [
    "from time import time\n",
    "start_time=time()\n",
    "\n",
    "# mXlist=np.array([2*TeV,2*GeV,200*MeV])\n",
    "# # m1list=np.array([1*TeV,1*GeV,100*MeV])\n",
    "# m1list=mXlist*0\n",
    "# resultsss=[]\n",
    "# for im1,m1 in enumerate(m1list):\n",
    "#     resultss=[]\n",
    "#     for iF,F in enumerate([F_II_2,F_III_2]):\n",
    "\n",
    "mXlist=np.array([2*TeV])\n",
    "# m1list=np.array([1*TeV,1*GeV,100*MeV])\n",
    "m1list=mXlist*0\n",
    "resultsss=[]\n",
    "for im1,m1 in enumerate(m1list):\n",
    "    resultss=[]\n",
    "    for iF,F in enumerate([F_III_2]):\n",
    "        m2=m1\n",
    "        m3=m4=0\n",
    "        mX=mXlist[im1]\n",
    "\n",
    "        iii=I4()\n",
    "        iii.m1234=(m1,m2,m3,m4)\n",
    "        iii.n=1000000\n",
    "        iii.F=F\n",
    "        #which requires global T1, m1,mX\n",
    "\n",
    "        T1list=mX * np.logspace(-2,1,40)\n",
    "        results=[]\n",
    "\n",
    "        for i,T1 in enumerate(T1list):\n",
    "            print (\"\\r m1=\",m1,\"F=\",iF,\"i=\",i,\"/\",len(T1list),end=\",\")    \n",
    "            iii.Tqx=4*T1\n",
    "            iii.T2x=4*T1 \n",
    "            iii.generate()\n",
    "            results.append(iii.go())\n",
    "\n",
    "        resultss.append(np.array([T1list,results]))\n",
    "    resultsss.append(resultss)\n",
    "    \n",
    "print (\"time used=\",time()-start_time)\n",
    "    "
   ]
  },
  {
   "cell_type": "code",
   "execution_count": 16,
   "metadata": {
    "hidden": true
   },
   "outputs": [],
   "source": [
    "np.save(\"data/C_annihilation_0m1.npy\",[resultsss,m1list,mXlist])"
   ]
  },
  {
   "cell_type": "code",
   "execution_count": null,
   "metadata": {
    "hidden": true
   },
   "outputs": [],
   "source": []
  }
 ],
 "metadata": {
  "kernelspec": {
   "display_name": "Python 3",
   "language": "python",
   "name": "python3"
  },
  "language_info": {
   "codemirror_mode": {
    "name": "ipython",
    "version": 3
   },
   "file_extension": ".py",
   "mimetype": "text/x-python",
   "name": "python",
   "nbconvert_exporter": "python",
   "pygments_lexer": "ipython3",
   "version": "3.6.5"
  }
 },
 "nbformat": 4,
 "nbformat_minor": 2
}
